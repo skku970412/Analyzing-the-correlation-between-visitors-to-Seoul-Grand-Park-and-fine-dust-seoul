{
 "cells": [
  {
   "cell_type": "code",
   "execution_count": 43,
   "id": "fa8c6e7e",
   "metadata": {},
   "outputs": [],
   "source": [
    "import pandas as pd"
   ]
  },
  {
   "cell_type": "code",
   "execution_count": 44,
   "id": "eed70b6f",
   "metadata": {},
   "outputs": [
    {
     "data": {
      "text/html": [
       "<div>\n",
       "<style scoped>\n",
       "    .dataframe tbody tr th:only-of-type {\n",
       "        vertical-align: middle;\n",
       "    }\n",
       "\n",
       "    .dataframe tbody tr th {\n",
       "        vertical-align: top;\n",
       "    }\n",
       "\n",
       "    .dataframe thead th {\n",
       "        text-align: right;\n",
       "    }\n",
       "</style>\n",
       "<table border=\"1\" class=\"dataframe\">\n",
       "  <thead>\n",
       "    <tr style=\"text-align: right;\">\n",
       "      <th></th>\n",
       "      <th>측정일자</th>\n",
       "      <th>도로변구분</th>\n",
       "      <th>측정소명</th>\n",
       "      <th>미세먼지(㎍/㎥)</th>\n",
       "      <th>오존(ppm)</th>\n",
       "      <th>이산화질소농도(ppm)</th>\n",
       "      <th>일산화탄소농도(ppm)</th>\n",
       "      <th>아황산가스농도(ppm)</th>\n",
       "    </tr>\n",
       "  </thead>\n",
       "  <tbody>\n",
       "    <tr>\n",
       "      <th>0</th>\n",
       "      <td>20220101</td>\n",
       "      <td>일반도로</td>\n",
       "      <td>종로</td>\n",
       "      <td>24</td>\n",
       "      <td>0.021</td>\n",
       "      <td>0.025</td>\n",
       "      <td>0.5</td>\n",
       "      <td>0.003</td>\n",
       "    </tr>\n",
       "    <tr>\n",
       "      <th>1</th>\n",
       "      <td>20220102</td>\n",
       "      <td>일반도로</td>\n",
       "      <td>종로</td>\n",
       "      <td>22</td>\n",
       "      <td>0.025</td>\n",
       "      <td>0.020</td>\n",
       "      <td>0.4</td>\n",
       "      <td>0.003</td>\n",
       "    </tr>\n",
       "    <tr>\n",
       "      <th>2</th>\n",
       "      <td>20220103</td>\n",
       "      <td>일반도로</td>\n",
       "      <td>종로</td>\n",
       "      <td>22</td>\n",
       "      <td>0.012</td>\n",
       "      <td>0.023</td>\n",
       "      <td>0.5</td>\n",
       "      <td>0.003</td>\n",
       "    </tr>\n",
       "    <tr>\n",
       "      <th>3</th>\n",
       "      <td>20220104</td>\n",
       "      <td>일반도로</td>\n",
       "      <td>종로</td>\n",
       "      <td>20</td>\n",
       "      <td>0.021</td>\n",
       "      <td>0.014</td>\n",
       "      <td>0.4</td>\n",
       "      <td>0.003</td>\n",
       "    </tr>\n",
       "    <tr>\n",
       "      <th>4</th>\n",
       "      <td>20220105</td>\n",
       "      <td>일반도로</td>\n",
       "      <td>종로</td>\n",
       "      <td>20</td>\n",
       "      <td>0.026</td>\n",
       "      <td>0.015</td>\n",
       "      <td>0.4</td>\n",
       "      <td>0.002</td>\n",
       "    </tr>\n",
       "  </tbody>\n",
       "</table>\n",
       "</div>"
      ],
      "text/plain": [
       "       측정일자 도로변구분 측정소명  미세먼지(㎍/㎥)  오존(ppm)  이산화질소농도(ppm)  일산화탄소농도(ppm)  \\\n",
       "0  20220101  일반도로   종로         24    0.021         0.025           0.5   \n",
       "1  20220102  일반도로   종로         22    0.025         0.020           0.4   \n",
       "2  20220103  일반도로   종로         22    0.012         0.023           0.5   \n",
       "3  20220104  일반도로   종로         20    0.021         0.014           0.4   \n",
       "4  20220105  일반도로   종로         20    0.026         0.015           0.4   \n",
       "\n",
       "   아황산가스농도(ppm)  \n",
       "0         0.003  \n",
       "1         0.003  \n",
       "2         0.003  \n",
       "3         0.003  \n",
       "4         0.002  "
      ]
     },
     "execution_count": 44,
     "metadata": {},
     "output_type": "execute_result"
    }
   ],
   "source": [
    "# 20220101~20221031 까지의 종로 측정소의 미세먼지 데이터\n",
    "dust_data = pd.read_csv('종로미세먼지_1_10.csv', encoding = 'cp949')\n",
    "dust_data.head()"
   ]
  },
  {
   "cell_type": "code",
   "execution_count": 45,
   "id": "2064bb22",
   "metadata": {},
   "outputs": [
    {
     "name": "stdout",
     "output_type": "stream",
     "text": [
      "<class 'pandas.core.frame.DataFrame'>\n",
      "RangeIndex: 304 entries, 0 to 303\n",
      "Data columns (total 8 columns):\n",
      " #   Column        Non-Null Count  Dtype  \n",
      "---  ------        --------------  -----  \n",
      " 0   측정일자          304 non-null    int64  \n",
      " 1   도로변구분         304 non-null    object \n",
      " 2   측정소명          304 non-null    object \n",
      " 3   미세먼지(㎍/㎥)     304 non-null    int64  \n",
      " 4   오존(ppm)       304 non-null    float64\n",
      " 5   이산화질소농도(ppm)  304 non-null    float64\n",
      " 6   일산화탄소농도(ppm)  304 non-null    float64\n",
      " 7   아황산가스농도(ppm)  304 non-null    float64\n",
      "dtypes: float64(4), int64(2), object(2)\n",
      "memory usage: 19.1+ KB\n"
     ]
    }
   ],
   "source": [
    "# 데이터 정보\n",
    "dust_data.info()"
   ]
  },
  {
   "cell_type": "code",
   "execution_count": 46,
   "id": "dd27faca",
   "metadata": {},
   "outputs": [
    {
     "data": {
      "text/plain": [
       "측정일자            0\n",
       "도로변구분           0\n",
       "측정소명            0\n",
       "미세먼지(㎍/㎥)       0\n",
       "오존(ppm)         0\n",
       "이산화질소농도(ppm)    0\n",
       "일산화탄소농도(ppm)    0\n",
       "아황산가스농도(ppm)    0\n",
       "dtype: int64"
      ]
     },
     "execution_count": 46,
     "metadata": {},
     "output_type": "execute_result"
    }
   ],
   "source": [
    "# 결측치 검사\n",
    "dust_data.isnull().sum()"
   ]
  },
  {
   "cell_type": "code",
   "execution_count": 47,
   "id": "ac99719f",
   "metadata": {},
   "outputs": [
    {
     "data": {
      "text/plain": [
       "count    304.000000\n",
       "mean      36.582237\n",
       "std       20.051579\n",
       "min        6.000000\n",
       "25%       24.000000\n",
       "50%       32.000000\n",
       "75%       44.000000\n",
       "max      139.000000\n",
       "Name: 미세먼지(㎍/㎥), dtype: float64"
      ]
     },
     "execution_count": 47,
     "metadata": {},
     "output_type": "execute_result"
    }
   ],
   "source": [
    "# 미세먼지에 대한 통계량 도출\n",
    "micro_data = dust_data.loc[:, '미세먼지(㎍/㎥)']\n",
    "micro_data.describe()"
   ]
  },
  {
   "cell_type": "code",
   "execution_count": 48,
   "id": "628373c7",
   "metadata": {},
   "outputs": [
    {
     "data": {
      "text/html": [
       "<div>\n",
       "<style scoped>\n",
       "    .dataframe tbody tr th:only-of-type {\n",
       "        vertical-align: middle;\n",
       "    }\n",
       "\n",
       "    .dataframe tbody tr th {\n",
       "        vertical-align: top;\n",
       "    }\n",
       "\n",
       "    .dataframe thead th {\n",
       "        text-align: right;\n",
       "    }\n",
       "</style>\n",
       "<table border=\"1\" class=\"dataframe\">\n",
       "  <thead>\n",
       "    <tr style=\"text-align: right;\">\n",
       "      <th></th>\n",
       "      <th>날짜</th>\n",
       "      <th>요일</th>\n",
       "      <th>유료일계</th>\n",
       "      <th>무료일계</th>\n",
       "      <th>일합계</th>\n",
       "    </tr>\n",
       "  </thead>\n",
       "  <tbody>\n",
       "    <tr>\n",
       "      <th>0</th>\n",
       "      <td>20220101</td>\n",
       "      <td>토</td>\n",
       "      <td>831</td>\n",
       "      <td>212</td>\n",
       "      <td>1043</td>\n",
       "    </tr>\n",
       "    <tr>\n",
       "      <th>1</th>\n",
       "      <td>20220102</td>\n",
       "      <td>일</td>\n",
       "      <td>780</td>\n",
       "      <td>304</td>\n",
       "      <td>1084</td>\n",
       "    </tr>\n",
       "    <tr>\n",
       "      <th>2</th>\n",
       "      <td>20220103</td>\n",
       "      <td>월</td>\n",
       "      <td>198</td>\n",
       "      <td>126</td>\n",
       "      <td>324</td>\n",
       "    </tr>\n",
       "    <tr>\n",
       "      <th>3</th>\n",
       "      <td>20220104</td>\n",
       "      <td>화</td>\n",
       "      <td>177</td>\n",
       "      <td>240</td>\n",
       "      <td>417</td>\n",
       "    </tr>\n",
       "    <tr>\n",
       "      <th>4</th>\n",
       "      <td>20220105</td>\n",
       "      <td>수</td>\n",
       "      <td>166</td>\n",
       "      <td>183</td>\n",
       "      <td>349</td>\n",
       "    </tr>\n",
       "  </tbody>\n",
       "</table>\n",
       "</div>"
      ],
      "text/plain": [
       "         날짜 요일  유료일계  무료일계   일합계\n",
       "0  20220101  토   831   212  1043\n",
       "1  20220102  일   780   304  1084\n",
       "2  20220103  월   198   126   324\n",
       "3  20220104  화   177   240   417\n",
       "4  20220105  수   166   183   349"
      ]
     },
     "execution_count": 48,
     "metadata": {},
     "output_type": "execute_result"
    }
   ],
   "source": [
    "# 20220101~20221031 까지의 서울대공원 입장객 데이터\n",
    "entrance_data=pd.read_csv(\"서울대공원 입장객_1_10.csv\", encoding='UTF-8')\n",
    "entrance_data.head()"
   ]
  },
  {
   "cell_type": "code",
   "execution_count": 49,
   "id": "2a6793c3",
   "metadata": {},
   "outputs": [
    {
     "name": "stdout",
     "output_type": "stream",
     "text": [
      "<class 'pandas.core.frame.DataFrame'>\n",
      "RangeIndex: 304 entries, 0 to 303\n",
      "Data columns (total 5 columns):\n",
      " #   Column  Non-Null Count  Dtype \n",
      "---  ------  --------------  ----- \n",
      " 0   날짜      304 non-null    int64 \n",
      " 1   요일      304 non-null    object\n",
      " 2   유료일계    304 non-null    int64 \n",
      " 3   무료일계    304 non-null    int64 \n",
      " 4   일합계     304 non-null    int64 \n",
      "dtypes: int64(4), object(1)\n",
      "memory usage: 12.0+ KB\n"
     ]
    }
   ],
   "source": [
    "# 데이터 정보\n",
    "entrance_data.info()"
   ]
  },
  {
   "cell_type": "code",
   "execution_count": 50,
   "id": "3e55891a",
   "metadata": {},
   "outputs": [
    {
     "data": {
      "text/plain": [
       "날짜      0\n",
       "요일      0\n",
       "유료일계    0\n",
       "무료일계    0\n",
       "일합계     0\n",
       "dtype: int64"
      ]
     },
     "execution_count": 50,
     "metadata": {},
     "output_type": "execute_result"
    }
   ],
   "source": [
    "# 결측치 검사\n",
    "entrance_data.isnull().sum()"
   ]
  },
  {
   "cell_type": "code",
   "execution_count": 51,
   "id": "3111b46e",
   "metadata": {},
   "outputs": [],
   "source": [
    "# 데이터 병합 과정\n",
    "day_list=list(entrance_data[\"요일\"])\n",
    "dailytotal_list=list(entrance_data[\"일합계\"])"
   ]
  },
  {
   "cell_type": "code",
   "execution_count": 52,
   "id": "baeff2b7",
   "metadata": {},
   "outputs": [],
   "source": [
    "dust_data[\"요일\"]=day_list\n",
    "dust_data[\"공원 일일 입장객\"]=dailytotal_list"
   ]
  },
  {
   "cell_type": "code",
   "execution_count": 53,
   "id": "498364fd",
   "metadata": {},
   "outputs": [
    {
     "data": {
      "text/html": [
       "<div>\n",
       "<style scoped>\n",
       "    .dataframe tbody tr th:only-of-type {\n",
       "        vertical-align: middle;\n",
       "    }\n",
       "\n",
       "    .dataframe tbody tr th {\n",
       "        vertical-align: top;\n",
       "    }\n",
       "\n",
       "    .dataframe thead th {\n",
       "        text-align: right;\n",
       "    }\n",
       "</style>\n",
       "<table border=\"1\" class=\"dataframe\">\n",
       "  <thead>\n",
       "    <tr style=\"text-align: right;\">\n",
       "      <th></th>\n",
       "      <th>측정일자</th>\n",
       "      <th>도로변구분</th>\n",
       "      <th>측정소명</th>\n",
       "      <th>미세먼지(㎍/㎥)</th>\n",
       "      <th>오존(ppm)</th>\n",
       "      <th>이산화질소농도(ppm)</th>\n",
       "      <th>일산화탄소농도(ppm)</th>\n",
       "      <th>아황산가스농도(ppm)</th>\n",
       "      <th>요일</th>\n",
       "      <th>공원 일일 입장객</th>\n",
       "    </tr>\n",
       "  </thead>\n",
       "  <tbody>\n",
       "    <tr>\n",
       "      <th>0</th>\n",
       "      <td>20220101</td>\n",
       "      <td>일반도로</td>\n",
       "      <td>종로</td>\n",
       "      <td>24</td>\n",
       "      <td>0.021</td>\n",
       "      <td>0.025</td>\n",
       "      <td>0.5</td>\n",
       "      <td>0.003</td>\n",
       "      <td>토</td>\n",
       "      <td>1043</td>\n",
       "    </tr>\n",
       "    <tr>\n",
       "      <th>1</th>\n",
       "      <td>20220102</td>\n",
       "      <td>일반도로</td>\n",
       "      <td>종로</td>\n",
       "      <td>22</td>\n",
       "      <td>0.025</td>\n",
       "      <td>0.020</td>\n",
       "      <td>0.4</td>\n",
       "      <td>0.003</td>\n",
       "      <td>일</td>\n",
       "      <td>1084</td>\n",
       "    </tr>\n",
       "    <tr>\n",
       "      <th>2</th>\n",
       "      <td>20220103</td>\n",
       "      <td>일반도로</td>\n",
       "      <td>종로</td>\n",
       "      <td>22</td>\n",
       "      <td>0.012</td>\n",
       "      <td>0.023</td>\n",
       "      <td>0.5</td>\n",
       "      <td>0.003</td>\n",
       "      <td>월</td>\n",
       "      <td>324</td>\n",
       "    </tr>\n",
       "    <tr>\n",
       "      <th>3</th>\n",
       "      <td>20220104</td>\n",
       "      <td>일반도로</td>\n",
       "      <td>종로</td>\n",
       "      <td>20</td>\n",
       "      <td>0.021</td>\n",
       "      <td>0.014</td>\n",
       "      <td>0.4</td>\n",
       "      <td>0.003</td>\n",
       "      <td>화</td>\n",
       "      <td>417</td>\n",
       "    </tr>\n",
       "    <tr>\n",
       "      <th>4</th>\n",
       "      <td>20220105</td>\n",
       "      <td>일반도로</td>\n",
       "      <td>종로</td>\n",
       "      <td>20</td>\n",
       "      <td>0.026</td>\n",
       "      <td>0.015</td>\n",
       "      <td>0.4</td>\n",
       "      <td>0.002</td>\n",
       "      <td>수</td>\n",
       "      <td>349</td>\n",
       "    </tr>\n",
       "  </tbody>\n",
       "</table>\n",
       "</div>"
      ],
      "text/plain": [
       "       측정일자 도로변구분 측정소명  미세먼지(㎍/㎥)  오존(ppm)  이산화질소농도(ppm)  일산화탄소농도(ppm)  \\\n",
       "0  20220101  일반도로   종로         24    0.021         0.025           0.5   \n",
       "1  20220102  일반도로   종로         22    0.025         0.020           0.4   \n",
       "2  20220103  일반도로   종로         22    0.012         0.023           0.5   \n",
       "3  20220104  일반도로   종로         20    0.021         0.014           0.4   \n",
       "4  20220105  일반도로   종로         20    0.026         0.015           0.4   \n",
       "\n",
       "   아황산가스농도(ppm) 요일  공원 일일 입장객  \n",
       "0         0.003  토       1043  \n",
       "1         0.003  일       1084  \n",
       "2         0.003  월        324  \n",
       "3         0.003  화        417  \n",
       "4         0.002  수        349  "
      ]
     },
     "execution_count": 53,
     "metadata": {},
     "output_type": "execute_result"
    }
   ],
   "source": [
    "dust_data.head()"
   ]
  },
  {
   "cell_type": "code",
   "execution_count": 54,
   "id": "031d5ea8",
   "metadata": {
    "scrolled": true
   },
   "outputs": [
    {
     "data": {
      "text/html": [
       "<div>\n",
       "<style scoped>\n",
       "    .dataframe tbody tr th:only-of-type {\n",
       "        vertical-align: middle;\n",
       "    }\n",
       "\n",
       "    .dataframe tbody tr th {\n",
       "        vertical-align: top;\n",
       "    }\n",
       "\n",
       "    .dataframe thead th {\n",
       "        text-align: right;\n",
       "    }\n",
       "</style>\n",
       "<table border=\"1\" class=\"dataframe\">\n",
       "  <thead>\n",
       "    <tr style=\"text-align: right;\">\n",
       "      <th></th>\n",
       "      <th>측정일자</th>\n",
       "      <th>요일</th>\n",
       "      <th>미세먼지(㎍/㎥)</th>\n",
       "      <th>공원 일일 입장객</th>\n",
       "    </tr>\n",
       "  </thead>\n",
       "  <tbody>\n",
       "    <tr>\n",
       "      <th>0</th>\n",
       "      <td>20220101</td>\n",
       "      <td>토</td>\n",
       "      <td>24</td>\n",
       "      <td>1043</td>\n",
       "    </tr>\n",
       "    <tr>\n",
       "      <th>1</th>\n",
       "      <td>20220102</td>\n",
       "      <td>일</td>\n",
       "      <td>22</td>\n",
       "      <td>1084</td>\n",
       "    </tr>\n",
       "    <tr>\n",
       "      <th>2</th>\n",
       "      <td>20220103</td>\n",
       "      <td>월</td>\n",
       "      <td>22</td>\n",
       "      <td>324</td>\n",
       "    </tr>\n",
       "    <tr>\n",
       "      <th>3</th>\n",
       "      <td>20220104</td>\n",
       "      <td>화</td>\n",
       "      <td>20</td>\n",
       "      <td>417</td>\n",
       "    </tr>\n",
       "    <tr>\n",
       "      <th>4</th>\n",
       "      <td>20220105</td>\n",
       "      <td>수</td>\n",
       "      <td>20</td>\n",
       "      <td>349</td>\n",
       "    </tr>\n",
       "  </tbody>\n",
       "</table>\n",
       "</div>"
      ],
      "text/plain": [
       "       측정일자 요일  미세먼지(㎍/㎥)  공원 일일 입장객\n",
       "0  20220101  토         24       1043\n",
       "1  20220102  일         22       1084\n",
       "2  20220103  월         22        324\n",
       "3  20220104  화         20        417\n",
       "4  20220105  수         20        349"
      ]
     },
     "execution_count": 54,
     "metadata": {},
     "output_type": "execute_result"
    }
   ],
   "source": [
    "main_data = dust_data[[\"측정일자\", \"요일\", \"미세먼지(㎍/㎥)\", \"공원 일일 입장객\"]]\n",
    "main_data.head()"
   ]
  },
  {
   "cell_type": "code",
   "execution_count": 55,
   "id": "2878a79f",
   "metadata": {},
   "outputs": [
    {
     "data": {
      "text/html": [
       "<div>\n",
       "<style scoped>\n",
       "    .dataframe tbody tr th:only-of-type {\n",
       "        vertical-align: middle;\n",
       "    }\n",
       "\n",
       "    .dataframe tbody tr th {\n",
       "        vertical-align: top;\n",
       "    }\n",
       "\n",
       "    .dataframe thead th {\n",
       "        text-align: right;\n",
       "    }\n",
       "</style>\n",
       "<table border=\"1\" class=\"dataframe\">\n",
       "  <thead>\n",
       "    <tr style=\"text-align: right;\">\n",
       "      <th></th>\n",
       "      <th>측정일자</th>\n",
       "      <th>요일</th>\n",
       "      <th>미세먼지(㎍/㎥)</th>\n",
       "      <th>공원 일일 입장객</th>\n",
       "    </tr>\n",
       "  </thead>\n",
       "  <tbody>\n",
       "    <tr>\n",
       "      <th>2</th>\n",
       "      <td>20220103</td>\n",
       "      <td>월</td>\n",
       "      <td>22</td>\n",
       "      <td>324</td>\n",
       "    </tr>\n",
       "    <tr>\n",
       "      <th>3</th>\n",
       "      <td>20220104</td>\n",
       "      <td>화</td>\n",
       "      <td>20</td>\n",
       "      <td>417</td>\n",
       "    </tr>\n",
       "    <tr>\n",
       "      <th>4</th>\n",
       "      <td>20220105</td>\n",
       "      <td>수</td>\n",
       "      <td>20</td>\n",
       "      <td>349</td>\n",
       "    </tr>\n",
       "    <tr>\n",
       "      <th>5</th>\n",
       "      <td>20220106</td>\n",
       "      <td>목</td>\n",
       "      <td>13</td>\n",
       "      <td>933</td>\n",
       "    </tr>\n",
       "    <tr>\n",
       "      <th>6</th>\n",
       "      <td>20220107</td>\n",
       "      <td>금</td>\n",
       "      <td>19</td>\n",
       "      <td>463</td>\n",
       "    </tr>\n",
       "  </tbody>\n",
       "</table>\n",
       "</div>"
      ],
      "text/plain": [
       "       측정일자 요일  미세먼지(㎍/㎥)  공원 일일 입장객\n",
       "2  20220103  월         22        324\n",
       "3  20220104  화         20        417\n",
       "4  20220105  수         20        349\n",
       "5  20220106  목         13        933\n",
       "6  20220107  금         19        463"
      ]
     },
     "execution_count": 55,
     "metadata": {},
     "output_type": "execute_result"
    }
   ],
   "source": [
    "# 주중 데이터 분석\n",
    "weekday_data = main_data[main_data['요일'].str.contains('월|화|수|목|금', na = False)]\n",
    "weekday_data.head()"
   ]
  },
  {
   "cell_type": "code",
   "execution_count": 56,
   "id": "e21a15fb",
   "metadata": {},
   "outputs": [
    {
     "data": {
      "text/plain": [
       "count      216.000000\n",
       "mean      2704.199074\n",
       "std       3954.749482\n",
       "min         55.000000\n",
       "25%        737.500000\n",
       "50%       1645.500000\n",
       "75%       3481.750000\n",
       "max      46381.000000\n",
       "Name: 공원 일일 입장객, dtype: float64"
      ]
     },
     "execution_count": 56,
     "metadata": {},
     "output_type": "execute_result"
    }
   ],
   "source": [
    "# 통계량 도출\n",
    "weekday_daily = weekday_data.loc[:, '공원 일일 입장객']\n",
    "weekday_daily.describe()"
   ]
  },
  {
   "cell_type": "code",
   "execution_count": 57,
   "id": "c48108ec",
   "metadata": {},
   "outputs": [],
   "source": [
    "# 특별한 날의 이상치(공휴일 및 기념일들 중 방문객 수가 Q3+1.5*IQR= 7598.125보다 큰 경우) 제거\n",
    "weekday_pro = weekday_data.drop(index=[67, 124, 151, 156, 251, 254])"
   ]
  },
  {
   "cell_type": "code",
   "execution_count": 58,
   "id": "e91d2027",
   "metadata": {
    "scrolled": true
   },
   "outputs": [
    {
     "name": "stdout",
     "output_type": "stream",
     "text": [
      "Data size: (210, 4)\n"
     ]
    }
   ],
   "source": [
    "print('Data size: ', end = '')\n",
    "print(weekday_pro.shape)"
   ]
  },
  {
   "cell_type": "code",
   "execution_count": 59,
   "id": "7230aad1",
   "metadata": {},
   "outputs": [],
   "source": [
    "# 회귀 분석 진행\n",
    "from sklearn.linear_model import LinearRegression\n",
    "import matplotlib.pyplot as plt"
   ]
  },
  {
   "cell_type": "code",
   "execution_count": 60,
   "id": "7e8bf97a",
   "metadata": {},
   "outputs": [
    {
     "data": {
      "text/plain": [
       "LinearRegression()"
      ]
     },
     "execution_count": 60,
     "metadata": {},
     "output_type": "execute_result"
    }
   ],
   "source": [
    "# 모델 학습\n",
    "weekday_model = LinearRegression()\n",
    "\n",
    "X1 = weekday_pro['미세먼지(㎍/㎥)']\n",
    "y1 = weekday_pro['공원 일일 입장객']\n",
    "\n",
    "weekday_model.fit(X1.values.reshape(-1,1), y1)"
   ]
  },
  {
   "cell_type": "code",
   "execution_count": 61,
   "id": "5267e33d",
   "metadata": {
    "scrolled": true
   },
   "outputs": [
    {
     "name": "stdout",
     "output_type": "stream",
     "text": [
      "coef: [16.57821349]\n",
      "intercpt: 1657.6393552745035\n"
     ]
    }
   ],
   "source": [
    "# 기울기, y절편\n",
    "print(\"coef:\", weekday_model.coef_)\n",
    "print(\"intercpt:\", weekday_model.intercept_)"
   ]
  },
  {
   "cell_type": "code",
   "execution_count": 62,
   "id": "9405e1ff",
   "metadata": {},
   "outputs": [
    {
     "data": {
      "text/plain": [
       "[<matplotlib.lines.Line2D at 0x24ae4011190>]"
      ]
     },
     "execution_count": 62,
     "metadata": {},
     "output_type": "execute_result"
    },
    {
     "data": {
      "image/png": "[encoded data removed]",
      "text/plain": [
       "<Figure size 432x288 with 1 Axes>"
      ]
     },
     "metadata": {
      "needs_background": "light"
     },
     "output_type": "display_data"
    }
   ],
   "source": [
    "# 시각화\n",
    "plt.title(\"Weekday Linear Regression\")\n",
    "plt.xlabel(\"Fine Dust\")\n",
    "plt.ylabel(\"Daily Visitor\")\n",
    "plt.scatter(X1, y1)\n",
    "plt.plot(X1, weekday_model.coef_*X1 + weekday_model.intercept_)"
   ]
  },
  {
   "cell_type": "code",
   "execution_count": 63,
   "id": "6b1a7c05",
   "metadata": {
    "scrolled": true
   },
   "outputs": [
    {
     "data": {
      "text/html": [
       "<div>\n",
       "<style scoped>\n",
       "    .dataframe tbody tr th:only-of-type {\n",
       "        vertical-align: middle;\n",
       "    }\n",
       "\n",
       "    .dataframe tbody tr th {\n",
       "        vertical-align: top;\n",
       "    }\n",
       "\n",
       "    .dataframe thead th {\n",
       "        text-align: right;\n",
       "    }\n",
       "</style>\n",
       "<table border=\"1\" class=\"dataframe\">\n",
       "  <thead>\n",
       "    <tr style=\"text-align: right;\">\n",
       "      <th></th>\n",
       "      <th>측정일자</th>\n",
       "      <th>요일</th>\n",
       "      <th>미세먼지(㎍/㎥)</th>\n",
       "      <th>공원 일일 입장객</th>\n",
       "    </tr>\n",
       "  </thead>\n",
       "  <tbody>\n",
       "    <tr>\n",
       "      <th>0</th>\n",
       "      <td>20220101</td>\n",
       "      <td>토</td>\n",
       "      <td>24</td>\n",
       "      <td>1043</td>\n",
       "    </tr>\n",
       "    <tr>\n",
       "      <th>1</th>\n",
       "      <td>20220102</td>\n",
       "      <td>일</td>\n",
       "      <td>22</td>\n",
       "      <td>1084</td>\n",
       "    </tr>\n",
       "    <tr>\n",
       "      <th>7</th>\n",
       "      <td>20220108</td>\n",
       "      <td>토</td>\n",
       "      <td>28</td>\n",
       "      <td>1431</td>\n",
       "    </tr>\n",
       "    <tr>\n",
       "      <th>8</th>\n",
       "      <td>20220109</td>\n",
       "      <td>일</td>\n",
       "      <td>28</td>\n",
       "      <td>1116</td>\n",
       "    </tr>\n",
       "    <tr>\n",
       "      <th>14</th>\n",
       "      <td>20220115</td>\n",
       "      <td>토</td>\n",
       "      <td>18</td>\n",
       "      <td>1433</td>\n",
       "    </tr>\n",
       "  </tbody>\n",
       "</table>\n",
       "</div>"
      ],
      "text/plain": [
       "        측정일자 요일  미세먼지(㎍/㎥)  공원 일일 입장객\n",
       "0   20220101  토         24       1043\n",
       "1   20220102  일         22       1084\n",
       "7   20220108  토         28       1431\n",
       "8   20220109  일         28       1116\n",
       "14  20220115  토         18       1433"
      ]
     },
     "execution_count": 63,
     "metadata": {},
     "output_type": "execute_result"
    }
   ],
   "source": [
    "# 주말 데이터 분석\n",
    "weekend_data = main_data[main_data['요일'].str.contains('토|일', na = False)]\n",
    "weekend_data.head()"
   ]
  },
  {
   "cell_type": "code",
   "execution_count": 64,
   "id": "93507673",
   "metadata": {},
   "outputs": [
    {
     "data": {
      "text/plain": [
       "count       88.000000\n",
       "mean      9311.204545\n",
       "std       7820.580316\n",
       "min        504.000000\n",
       "25%       1950.000000\n",
       "50%       7480.000000\n",
       "75%      15602.250000\n",
       "max      36225.000000\n",
       "Name: 공원 일일 입장객, dtype: float64"
      ]
     },
     "execution_count": 64,
     "metadata": {},
     "output_type": "execute_result"
    }
   ],
   "source": [
    "# 통계량 도출\n",
    "weekend_daily = weekend_data.loc[:, '공원 일일 입장객']\n",
    "weekend_daily.describe()"
   ]
  },
  {
   "cell_type": "code",
   "execution_count": 65,
   "id": "e450cfa7",
   "metadata": {},
   "outputs": [
    {
     "name": "stdout",
     "output_type": "stream",
     "text": [
      "Data size: (88, 4)\n"
     ]
    }
   ],
   "source": [
    "print('Data size: ', end = '')\n",
    "print(weekend_data.shape)"
   ]
  },
  {
   "cell_type": "code",
   "execution_count": 66,
   "id": "efda3c92",
   "metadata": {},
   "outputs": [
    {
     "data": {
      "text/plain": [
       "LinearRegression()"
      ]
     },
     "execution_count": 66,
     "metadata": {},
     "output_type": "execute_result"
    }
   ],
   "source": [
    "# 모델 학습\n",
    "weekend_model = LinearRegression()\n",
    "\n",
    "X2 = weekend_data['미세먼지(㎍/㎥)']\n",
    "y2 = weekend_data['공원 일일 입장객']\n",
    "\n",
    "weekend_model.fit(X2.values.reshape(-1,1), y2)"
   ]
  },
  {
   "cell_type": "code",
   "execution_count": 67,
   "id": "cddc7c73",
   "metadata": {},
   "outputs": [
    {
     "name": "stdout",
     "output_type": "stream",
     "text": [
      "coef: [73.37309193]\n",
      "intercpt: 6595.566358987559\n"
     ]
    }
   ],
   "source": [
    "# 기울기, y절편\n",
    "print(\"coef:\", weekend_model.coef_)\n",
    "print(\"intercpt:\", weekend_model.intercept_)"
   ]
  },
  {
   "cell_type": "code",
   "execution_count": 68,
   "id": "1fd4e7a1",
   "metadata": {
    "scrolled": true
   },
   "outputs": [
    {
     "data": {
      "text/plain": [
       "[<matplotlib.lines.Line2D at 0x24ae4063cd0>]"
      ]
     },
     "execution_count": 68,
     "metadata": {},
     "output_type": "execute_result"
    },
    {
     "data": {
      "image/png": "[encoded data removed]",
      "text/plain": [
       "<Figure size 432x288 with 1 Axes>"
      ]
     },
     "metadata": {
      "needs_background": "light"
     },
     "output_type": "display_data"
    }
   ],
   "source": [
    "# 시각화\n",
    "plt.title(\"Weekend Linear Regression\")\n",
    "plt.xlabel(\"Fine Dust\")\n",
    "plt.ylabel(\"Daily Visitor\")\n",
    "plt.scatter(X2, y2)\n",
    "plt.plot(X2, weekend_model.coef_*X2 + weekend_model.intercept_)"
   ]
  },
  {
   "cell_type": "code",
   "execution_count": 69,
   "id": "14f702e7",
   "metadata": {},
   "outputs": [
    {
     "data": {
      "text/html": [
       "<div>\n",
       "<style scoped>\n",
       "    .dataframe tbody tr th:only-of-type {\n",
       "        vertical-align: middle;\n",
       "    }\n",
       "\n",
       "    .dataframe tbody tr th {\n",
       "        vertical-align: top;\n",
       "    }\n",
       "\n",
       "    .dataframe thead th {\n",
       "        text-align: right;\n",
       "    }\n",
       "</style>\n",
       "<table border=\"1\" class=\"dataframe\">\n",
       "  <thead>\n",
       "    <tr style=\"text-align: right;\">\n",
       "      <th></th>\n",
       "      <th>측정일자</th>\n",
       "      <th>미세먼지(㎍/㎥)</th>\n",
       "    </tr>\n",
       "  </thead>\n",
       "  <tbody>\n",
       "    <tr>\n",
       "      <th>0</th>\n",
       "      <td>20220101</td>\n",
       "      <td>24</td>\n",
       "    </tr>\n",
       "    <tr>\n",
       "      <th>1</th>\n",
       "      <td>20220102</td>\n",
       "      <td>22</td>\n",
       "    </tr>\n",
       "    <tr>\n",
       "      <th>2</th>\n",
       "      <td>20220103</td>\n",
       "      <td>22</td>\n",
       "    </tr>\n",
       "    <tr>\n",
       "      <th>3</th>\n",
       "      <td>20220104</td>\n",
       "      <td>20</td>\n",
       "    </tr>\n",
       "    <tr>\n",
       "      <th>4</th>\n",
       "      <td>20220105</td>\n",
       "      <td>20</td>\n",
       "    </tr>\n",
       "  </tbody>\n",
       "</table>\n",
       "</div>"
      ],
      "text/plain": [
       "       측정일자  미세먼지(㎍/㎥)\n",
       "0  20220101         24\n",
       "1  20220102         22\n",
       "2  20220103         22\n",
       "3  20220104         20\n",
       "4  20220105         20"
      ]
     },
     "execution_count": 69,
     "metadata": {},
     "output_type": "execute_result"
    }
   ],
   "source": [
    "# 새로운 기준에서의 분석을 위한 데이터프레임 재생성\n",
    "n_dust_data = dust_data.copy()[[\"측정일자\", \"미세먼지(㎍/㎥)\"]]\n",
    "n_dust_data.head()"
   ]
  },
  {
   "cell_type": "code",
   "execution_count": 70,
   "id": "a37c4bd5",
   "metadata": {},
   "outputs": [],
   "source": [
    "n_day_list=list(entrance_data[\"요일\"])\n",
    "n_dailytotal_list=list(entrance_data[\"유료일계\"])"
   ]
  },
  {
   "cell_type": "code",
   "execution_count": 71,
   "id": "a691db0b",
   "metadata": {},
   "outputs": [
    {
     "data": {
      "text/html": [
       "<div>\n",
       "<style scoped>\n",
       "    .dataframe tbody tr th:only-of-type {\n",
       "        vertical-align: middle;\n",
       "    }\n",
       "\n",
       "    .dataframe tbody tr th {\n",
       "        vertical-align: top;\n",
       "    }\n",
       "\n",
       "    .dataframe thead th {\n",
       "        text-align: right;\n",
       "    }\n",
       "</style>\n",
       "<table border=\"1\" class=\"dataframe\">\n",
       "  <thead>\n",
       "    <tr style=\"text-align: right;\">\n",
       "      <th></th>\n",
       "      <th>측정일자</th>\n",
       "      <th>미세먼지(㎍/㎥)</th>\n",
       "      <th>요일</th>\n",
       "      <th>일일 유료 입장객</th>\n",
       "    </tr>\n",
       "  </thead>\n",
       "  <tbody>\n",
       "    <tr>\n",
       "      <th>0</th>\n",
       "      <td>20220101</td>\n",
       "      <td>24</td>\n",
       "      <td>토</td>\n",
       "      <td>831</td>\n",
       "    </tr>\n",
       "    <tr>\n",
       "      <th>1</th>\n",
       "      <td>20220102</td>\n",
       "      <td>22</td>\n",
       "      <td>일</td>\n",
       "      <td>780</td>\n",
       "    </tr>\n",
       "    <tr>\n",
       "      <th>2</th>\n",
       "      <td>20220103</td>\n",
       "      <td>22</td>\n",
       "      <td>월</td>\n",
       "      <td>198</td>\n",
       "    </tr>\n",
       "    <tr>\n",
       "      <th>3</th>\n",
       "      <td>20220104</td>\n",
       "      <td>20</td>\n",
       "      <td>화</td>\n",
       "      <td>177</td>\n",
       "    </tr>\n",
       "    <tr>\n",
       "      <th>4</th>\n",
       "      <td>20220105</td>\n",
       "      <td>20</td>\n",
       "      <td>수</td>\n",
       "      <td>166</td>\n",
       "    </tr>\n",
       "  </tbody>\n",
       "</table>\n",
       "</div>"
      ],
      "text/plain": [
       "       측정일자  미세먼지(㎍/㎥) 요일  일일 유료 입장객\n",
       "0  20220101         24  토        831\n",
       "1  20220102         22  일        780\n",
       "2  20220103         22  월        198\n",
       "3  20220104         20  화        177\n",
       "4  20220105         20  수        166"
      ]
     },
     "execution_count": 71,
     "metadata": {},
     "output_type": "execute_result"
    }
   ],
   "source": [
    "n_dust_data[\"요일\"]=n_day_list\n",
    "n_dust_data[\"일일 유료 입장객\"]=n_dailytotal_list\n",
    "n_dust_data.head()"
   ]
  },
  {
   "cell_type": "code",
   "execution_count": 72,
   "id": "ef880444",
   "metadata": {},
   "outputs": [
    {
     "data": {
      "text/html": [
       "<div>\n",
       "<style scoped>\n",
       "    .dataframe tbody tr th:only-of-type {\n",
       "        vertical-align: middle;\n",
       "    }\n",
       "\n",
       "    .dataframe tbody tr th {\n",
       "        vertical-align: top;\n",
       "    }\n",
       "\n",
       "    .dataframe thead th {\n",
       "        text-align: right;\n",
       "    }\n",
       "</style>\n",
       "<table border=\"1\" class=\"dataframe\">\n",
       "  <thead>\n",
       "    <tr style=\"text-align: right;\">\n",
       "      <th></th>\n",
       "      <th>측정일자</th>\n",
       "      <th>미세먼지(㎍/㎥)</th>\n",
       "      <th>요일</th>\n",
       "      <th>일일 유료 입장객</th>\n",
       "    </tr>\n",
       "  </thead>\n",
       "  <tbody>\n",
       "    <tr>\n",
       "      <th>0</th>\n",
       "      <td>20220101</td>\n",
       "      <td>24</td>\n",
       "      <td>토</td>\n",
       "      <td>831</td>\n",
       "    </tr>\n",
       "    <tr>\n",
       "      <th>1</th>\n",
       "      <td>20220102</td>\n",
       "      <td>22</td>\n",
       "      <td>일</td>\n",
       "      <td>780</td>\n",
       "    </tr>\n",
       "    <tr>\n",
       "      <th>2</th>\n",
       "      <td>20220103</td>\n",
       "      <td>22</td>\n",
       "      <td>월</td>\n",
       "      <td>198</td>\n",
       "    </tr>\n",
       "    <tr>\n",
       "      <th>3</th>\n",
       "      <td>20220104</td>\n",
       "      <td>20</td>\n",
       "      <td>화</td>\n",
       "      <td>177</td>\n",
       "    </tr>\n",
       "    <tr>\n",
       "      <th>4</th>\n",
       "      <td>20220105</td>\n",
       "      <td>20</td>\n",
       "      <td>수</td>\n",
       "      <td>166</td>\n",
       "    </tr>\n",
       "    <tr>\n",
       "      <th>...</th>\n",
       "      <td>...</td>\n",
       "      <td>...</td>\n",
       "      <td>...</td>\n",
       "      <td>...</td>\n",
       "    </tr>\n",
       "    <tr>\n",
       "      <th>296</th>\n",
       "      <td>20221024</td>\n",
       "      <td>31</td>\n",
       "      <td>월</td>\n",
       "      <td>2138</td>\n",
       "    </tr>\n",
       "    <tr>\n",
       "      <th>297</th>\n",
       "      <td>20221025</td>\n",
       "      <td>44</td>\n",
       "      <td>화</td>\n",
       "      <td>1705</td>\n",
       "    </tr>\n",
       "    <tr>\n",
       "      <th>301</th>\n",
       "      <td>20221029</td>\n",
       "      <td>65</td>\n",
       "      <td>토</td>\n",
       "      <td>13553</td>\n",
       "    </tr>\n",
       "    <tr>\n",
       "      <th>302</th>\n",
       "      <td>20221030</td>\n",
       "      <td>38</td>\n",
       "      <td>일</td>\n",
       "      <td>26574</td>\n",
       "    </tr>\n",
       "    <tr>\n",
       "      <th>303</th>\n",
       "      <td>20221031</td>\n",
       "      <td>49</td>\n",
       "      <td>월</td>\n",
       "      <td>2521</td>\n",
       "    </tr>\n",
       "  </tbody>\n",
       "</table>\n",
       "<p>294 rows × 4 columns</p>\n",
       "</div>"
      ],
      "text/plain": [
       "         측정일자  미세먼지(㎍/㎥) 요일  일일 유료 입장객\n",
       "0    20220101         24  토        831\n",
       "1    20220102         22  일        780\n",
       "2    20220103         22  월        198\n",
       "3    20220104         20  화        177\n",
       "4    20220105         20  수        166\n",
       "..        ...        ... ..        ...\n",
       "296  20221024         31  월       2138\n",
       "297  20221025         44  화       1705\n",
       "301  20221029         65  토      13553\n",
       "302  20221030         38  일      26574\n",
       "303  20221031         49  월       2521\n",
       "\n",
       "[294 rows x 4 columns]"
      ]
     },
     "execution_count": 72,
     "metadata": {},
     "output_type": "execute_result"
    }
   ],
   "source": [
    "# 미세먼지 수치가 80보다 큰 데이터 제거\n",
    "index = n_dust_data[n_dust_data['미세먼지(㎍/㎥)'] > 80].index\n",
    "n_dust_data.drop(index, inplace = True)\n",
    "n_dust_data"
   ]
  },
  {
   "cell_type": "code",
   "execution_count": 73,
   "id": "608ad05a",
   "metadata": {},
   "outputs": [
    {
     "data": {
      "text/html": [
       "<div>\n",
       "<style scoped>\n",
       "    .dataframe tbody tr th:only-of-type {\n",
       "        vertical-align: middle;\n",
       "    }\n",
       "\n",
       "    .dataframe tbody tr th {\n",
       "        vertical-align: top;\n",
       "    }\n",
       "\n",
       "    .dataframe thead th {\n",
       "        text-align: right;\n",
       "    }\n",
       "</style>\n",
       "<table border=\"1\" class=\"dataframe\">\n",
       "  <thead>\n",
       "    <tr style=\"text-align: right;\">\n",
       "      <th></th>\n",
       "      <th>측정일자</th>\n",
       "      <th>미세먼지(㎍/㎥)</th>\n",
       "      <th>요일</th>\n",
       "      <th>일일 유료 입장객</th>\n",
       "    </tr>\n",
       "  </thead>\n",
       "  <tbody>\n",
       "    <tr>\n",
       "      <th>2</th>\n",
       "      <td>20220103</td>\n",
       "      <td>22</td>\n",
       "      <td>월</td>\n",
       "      <td>198</td>\n",
       "    </tr>\n",
       "    <tr>\n",
       "      <th>3</th>\n",
       "      <td>20220104</td>\n",
       "      <td>20</td>\n",
       "      <td>화</td>\n",
       "      <td>177</td>\n",
       "    </tr>\n",
       "    <tr>\n",
       "      <th>4</th>\n",
       "      <td>20220105</td>\n",
       "      <td>20</td>\n",
       "      <td>수</td>\n",
       "      <td>166</td>\n",
       "    </tr>\n",
       "    <tr>\n",
       "      <th>5</th>\n",
       "      <td>20220106</td>\n",
       "      <td>13</td>\n",
       "      <td>목</td>\n",
       "      <td>712</td>\n",
       "    </tr>\n",
       "    <tr>\n",
       "      <th>6</th>\n",
       "      <td>20220107</td>\n",
       "      <td>19</td>\n",
       "      <td>금</td>\n",
       "      <td>304</td>\n",
       "    </tr>\n",
       "  </tbody>\n",
       "</table>\n",
       "</div>"
      ],
      "text/plain": [
       "       측정일자  미세먼지(㎍/㎥) 요일  일일 유료 입장객\n",
       "2  20220103         22  월        198\n",
       "3  20220104         20  화        177\n",
       "4  20220105         20  수        166\n",
       "5  20220106         13  목        712\n",
       "6  20220107         19  금        304"
      ]
     },
     "execution_count": 73,
     "metadata": {},
     "output_type": "execute_result"
    }
   ],
   "source": [
    "# 주중 주말 분리 및 위와 같은 과정 반복\n",
    "n_weekday_data = n_dust_data[n_dust_data['요일'].str.contains('월|화|수|목|금', na = False)]\n",
    "n_weekday_data.head()"
   ]
  },
  {
   "cell_type": "code",
   "execution_count": 74,
   "id": "4ebbf201",
   "metadata": {},
   "outputs": [],
   "source": [
    "# 제거하는 공휴일 데이터의 경우 유/무료와 무관하다고 판단하여 삭제 기준은 그대로 유지함\n",
    "n_weekday_pro = n_weekday_data.drop(index=[67, 124, 151, 156, 251, 254])"
   ]
  },
  {
   "cell_type": "code",
   "execution_count": 75,
   "id": "82561809",
   "metadata": {},
   "outputs": [
    {
     "data": {
      "text/plain": [
       "LinearRegression()"
      ]
     },
     "execution_count": 75,
     "metadata": {},
     "output_type": "execute_result"
    }
   ],
   "source": [
    "n_weekday_model = LinearRegression()\n",
    "\n",
    "X3 = n_weekday_pro['미세먼지(㎍/㎥)']\n",
    "y3 = n_weekday_pro['일일 유료 입장객']\n",
    "\n",
    "n_weekday_model.fit(X3.values.reshape(-1,1), y3)"
   ]
  },
  {
   "cell_type": "code",
   "execution_count": 76,
   "id": "3d420b14",
   "metadata": {},
   "outputs": [
    {
     "name": "stdout",
     "output_type": "stream",
     "text": [
      "coef: [5.97450191]\n",
      "intercpt: 1255.6314138269613\n"
     ]
    }
   ],
   "source": [
    "print(\"coef:\", n_weekday_model.coef_)\n",
    "print(\"intercpt:\", n_weekday_model.intercept_)"
   ]
  },
  {
   "cell_type": "code",
   "execution_count": 77,
   "id": "089f7f72",
   "metadata": {},
   "outputs": [
    {
     "data": {
      "text/plain": [
       "[<matplotlib.lines.Line2D at 0x24ae40e7640>]"
      ]
     },
     "execution_count": 77,
     "metadata": {},
     "output_type": "execute_result"
    },
    {
     "data": {
      "image/png": "[encoded data removed]",
      "text/plain": [
       "<Figure size 432x288 with 1 Axes>"
      ]
     },
     "metadata": {
      "needs_background": "light"
     },
     "output_type": "display_data"
    }
   ],
   "source": [
    "plt.title(\"New Weekday Linear Regression\")\n",
    "plt.xlabel(\"Fine Dust\")\n",
    "plt.ylabel(\"Daily Visitor\")\n",
    "plt.scatter(X3, y3)\n",
    "plt.plot(X3, weekday_model.coef_*X3 + weekday_model.intercept_)"
   ]
  },
  {
   "cell_type": "code",
   "execution_count": 78,
   "id": "59fd3990",
   "metadata": {},
   "outputs": [
    {
     "data": {
      "text/html": [
       "<div>\n",
       "<style scoped>\n",
       "    .dataframe tbody tr th:only-of-type {\n",
       "        vertical-align: middle;\n",
       "    }\n",
       "\n",
       "    .dataframe tbody tr th {\n",
       "        vertical-align: top;\n",
       "    }\n",
       "\n",
       "    .dataframe thead th {\n",
       "        text-align: right;\n",
       "    }\n",
       "</style>\n",
       "<table border=\"1\" class=\"dataframe\">\n",
       "  <thead>\n",
       "    <tr style=\"text-align: right;\">\n",
       "      <th></th>\n",
       "      <th>측정일자</th>\n",
       "      <th>미세먼지(㎍/㎥)</th>\n",
       "      <th>요일</th>\n",
       "      <th>일일 유료 입장객</th>\n",
       "    </tr>\n",
       "  </thead>\n",
       "  <tbody>\n",
       "    <tr>\n",
       "      <th>0</th>\n",
       "      <td>20220101</td>\n",
       "      <td>24</td>\n",
       "      <td>토</td>\n",
       "      <td>831</td>\n",
       "    </tr>\n",
       "    <tr>\n",
       "      <th>1</th>\n",
       "      <td>20220102</td>\n",
       "      <td>22</td>\n",
       "      <td>일</td>\n",
       "      <td>780</td>\n",
       "    </tr>\n",
       "    <tr>\n",
       "      <th>7</th>\n",
       "      <td>20220108</td>\n",
       "      <td>28</td>\n",
       "      <td>토</td>\n",
       "      <td>1162</td>\n",
       "    </tr>\n",
       "    <tr>\n",
       "      <th>8</th>\n",
       "      <td>20220109</td>\n",
       "      <td>28</td>\n",
       "      <td>일</td>\n",
       "      <td>911</td>\n",
       "    </tr>\n",
       "    <tr>\n",
       "      <th>14</th>\n",
       "      <td>20220115</td>\n",
       "      <td>18</td>\n",
       "      <td>토</td>\n",
       "      <td>1122</td>\n",
       "    </tr>\n",
       "  </tbody>\n",
       "</table>\n",
       "</div>"
      ],
      "text/plain": [
       "        측정일자  미세먼지(㎍/㎥) 요일  일일 유료 입장객\n",
       "0   20220101         24  토        831\n",
       "1   20220102         22  일        780\n",
       "7   20220108         28  토       1162\n",
       "8   20220109         28  일        911\n",
       "14  20220115         18  토       1122"
      ]
     },
     "execution_count": 78,
     "metadata": {},
     "output_type": "execute_result"
    }
   ],
   "source": [
    "n_weekend_data = n_dust_data[n_dust_data['요일'].str.contains('토|일', na = False)]\n",
    "n_weekend_data.head()"
   ]
  },
  {
   "cell_type": "code",
   "execution_count": 79,
   "id": "13ee733d",
   "metadata": {},
   "outputs": [
    {
     "data": {
      "text/plain": [
       "LinearRegression()"
      ]
     },
     "execution_count": 79,
     "metadata": {},
     "output_type": "execute_result"
    }
   ],
   "source": [
    "n_weekend_model = LinearRegression()\n",
    "\n",
    "X4 = n_weekend_data['미세먼지(㎍/㎥)']\n",
    "y4 = n_weekend_data['일일 유료 입장객']\n",
    "\n",
    "n_weekend_model.fit(X4.values.reshape(-1,1), y4)"
   ]
  },
  {
   "cell_type": "code",
   "execution_count": 80,
   "id": "028ebf99",
   "metadata": {},
   "outputs": [
    {
     "name": "stdout",
     "output_type": "stream",
     "text": [
      "coef: [62.1773579]\n",
      "intercpt: 5820.370885103486\n"
     ]
    }
   ],
   "source": [
    "print(\"coef:\", n_weekend_model.coef_)\n",
    "print(\"intercpt:\", n_weekend_model.intercept_)"
   ]
  },
  {
   "cell_type": "code",
   "execution_count": 81,
   "id": "7b2ca127",
   "metadata": {},
   "outputs": [
    {
     "data": {
      "text/plain": [
       "[<matplotlib.lines.Line2D at 0x24ae4158250>]"
      ]
     },
     "execution_count": 81,
     "metadata": {},
     "output_type": "execute_result"
    },
    {
     "data": {
      "image/png": "[encoded data removed]",
      "text/plain": [
       "<Figure size 432x288 with 1 Axes>"
      ]
     },
     "metadata": {
      "needs_background": "light"
     },
     "output_type": "display_data"
    }
   ],
   "source": [
    "plt.title(\"New Weekend Linear Regression\")\n",
    "plt.xlabel(\"Fine Dust\")\n",
    "plt.ylabel(\"Daily Visitor\")\n",
    "plt.scatter(X4, y4)\n",
    "plt.plot(X4, weekday_model.coef_*X4 + weekday_model.intercept_)"
   ]
  },
  {
   "cell_type": "code",
   "execution_count": null,
   "id": "6288bebd",
   "metadata": {},
   "outputs": [],
   "source": []
  }
 ],
 "metadata": {
  "kernelspec": {
   "display_name": "Python 3 (ipykernel)",
   "language": "python",
   "name": "python3"
  },
  "language_info": {
   "codemirror_mode": {
    "name": "ipython",
    "version": 3
   },
   "file_extension": ".py",
   "mimetype": "text/x-python",
   "name": "python",
   "nbconvert_exporter": "python",
   "pygments_lexer": "ipython3",
   "version": "3.9.12"
  }
 },
 "nbformat": 4,
 "nbformat_minor": 5
}
